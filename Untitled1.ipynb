{
 "cells": [
  {
   "cell_type": "code",
   "execution_count": 22,
   "metadata": {},
   "outputs": [
    {
     "data": {
      "text/plain": [
       "[['a', 'd', 'g'], ['b', 'e', 'h'], ['c', 'f', 'i']]"
      ]
     },
     "execution_count": 22,
     "metadata": {},
     "output_type": "execute_result"
    }
   ],
   "source": [
    "from itertools import zip_longest\n",
    "\n",
    "def slicing(data, func):\n",
    "    return list(map(list, zip_longest(*[[func(item) for item in sublist] for sublist in data])))\n",
    "\n",
    "lst = [[(1, 'a'), (2, 'b'), (3, 'c')], \n",
    "       [(4, 'd'), (5, 'e'), (6, 'f')], \n",
    "       [(7, 'g'), (8, 'h'), (9, 'i')], \n",
    "       [(10, 'j'), (11, 'k')]]\n",
    "\n",
    "slicing(lst[:3], lambda x: x[1])"
   ]
  },
  {
   "cell_type": "code",
   "execution_count": 23,
   "metadata": {},
   "outputs": [
    {
     "name": "stdout",
     "output_type": "stream",
     "text": [
      "[['aa', 'ab', 'ac'], [1.3, 1.4, 1.5], [11, 11, 11]]\n",
      "[['aa', 'ab', 'ac']]\n"
     ]
    }
   ],
   "source": [
    "from collections import namedtuple\n",
    "Employee = namedtuple('Employee', ['name', 'id', 'service'])\n",
    "\n",
    "def stream(data, names):\n",
    "    return [list(map(lambda item: getattr(item, name), data)) for name in names]\n",
    "\n",
    "est = [Employee('aa', 11, 1.3), Employee('ab', 11, 1.4), Employee('ac', 11, 1.5),\n",
    "       Employee('ad', 11, 1.6), Employee('ae', 11, 1.8), Employee('af', 11, 1.10)]\n",
    "\n",
    "print(stream(est[:3], ['name', 'service', 'id']))\n",
    "print(stream(est[:3], ['name']))"
   ]
  },
  {
   "cell_type": "code",
   "execution_count": 24,
   "metadata": {},
   "outputs": [],
   "source": [
    "from typing import Any, Tuple, List, Dict, Iterable, Callable, Union\n",
    "\n",
    "def _filter_transpose(source: List[Any], names: Iterable[str]) -> List[List[Any]]:\n",
    "    return [list(map(lambda obj: getattr(obj, name), source)) for name in names]\n",
    "\n",
    "class _SliceList(list):\n",
    "    def __getitem__(self, key: Union[int, slice, Iterable[str]]) -> Union[List[List[Any]], '_SliceList']:\n",
    "        if isinstance(key, str):\n",
    "            return _filter_transpose(self, [key])        \n",
    "        elif hasattr(key, '__iter__'):\n",
    "            return _filter_transpose(self, list(key))          \n",
    "        else:\n",
    "            return self.__class__(super().__getitem__(key))\n",
    "    def __add__(self, other):\n",
    "        return self.__class__(super().__add__(other))\n",
    "    def __iadd__(self, other):\n",
    "        return self.__class__(super().__iadd__(other))    \n",
    "    def __mul__(self, other):\n",
    "        return self.__class__(super().__mul__(other))\n",
    "    def __rmul__(self, other):\n",
    "        return self.__class__(super().__rmul__(other))\n",
    "    def __imul__(self, other):\n",
    "        return self.__class__(super().__imul__(other))"
   ]
  },
  {
   "cell_type": "code",
   "execution_count": 25,
   "metadata": {},
   "outputs": [
    {
     "name": "stdout",
     "output_type": "stream",
     "text": [
      "['aa', 11, 1.3]\n",
      "['aa', 11, 1.3]\n",
      "[['aa', 'ab', 'ac'], [11, 11, 11]]\n",
      "[['aa', 'ab', 'ac']]\n",
      "[['aa', 'ab']]\n"
     ]
    }
   ],
   "source": [
    "sst = _SliceList([Employee('aa', 11, 1.3), Employee('ab', 11, 1.4), Employee('ac', 11, 1.5),\n",
    "                  Employee('ad', 11, 1.6), Employee('ae', 11, 1.8), Employee('af', 11, 1.10)])\n",
    "\n",
    "print(sst[0])\n",
    "print(sst[:3][0])\n",
    "print(sst[:3]['name', 'id'])\n",
    "print(sst[:3][['name']])\n",
    "print(sst[:2]['name'])"
   ]
  },
  {
   "cell_type": "code",
   "execution_count": 26,
   "metadata": {},
   "outputs": [
    {
     "name": "stdout",
     "output_type": "stream",
     "text": [
      "<class '__main__._SliceList'>\n",
      "<class '__main__._SliceList'>\n",
      "<class 'list'>\n",
      "<class '__main__._SliceList'>\n",
      "<class '__main__._SliceList'>\n",
      "<class '__main__._SliceList'>\n"
     ]
    }
   ],
   "source": [
    "print(type(sst[0]))\n",
    "print(type(sst[:3] + sst[3+1:] + [None]))\n",
    "print(type([None] + sst[3+1:]))\n",
    "print(type(sst[3+1:] + [None]))\n",
    "print(type(sst[:3]))\n",
    "print(type(sst[:][:2]))"
   ]
  }
 ],
 "metadata": {
  "kernelspec": {
   "display_name": "Python 3",
   "language": "python",
   "name": "python3"
  },
  "language_info": {
   "codemirror_mode": {
    "name": "ipython",
    "version": 3
   },
   "file_extension": ".py",
   "mimetype": "text/x-python",
   "name": "python",
   "nbconvert_exporter": "python",
   "pygments_lexer": "ipython3",
   "version": "3.7.1"
  }
 },
 "nbformat": 4,
 "nbformat_minor": 2
}
